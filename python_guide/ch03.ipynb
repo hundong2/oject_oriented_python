{
 "cells": [
  {
   "cell_type": "markdown",
   "id": "658abec7",
   "metadata": {},
   "source": [
    "# __format__() method \n",
    "\n",
    "it'll be used that format \n",
    "\n",
    "```python\n",
    "someobject.__format__(\"\")\n",
    "=>\n",
    "f\"{someobject}\"\n",
    "format(someobject)\n",
    "\"{0}\".format(someobject)\n",
    "```\n",
    "\n",
    "```python\n",
    "someobject.__format(spec):\n",
    "=>\n",
    "f\"{someobject:spec}\"\n",
    "format(someobject,spec)\n",
    "\"{0:spec}\".format(someobject)\n",
    "```"
   ]
  },
  {
   "cell_type": "markdown",
   "id": "8571c0df",
   "metadata": {},
   "source": [
    "# 반환 명세 ( conversion specification )\n",
    "\n",
    "- `!r` : conversion specification\n",
    "    - `__repr__()` \n",
    "- `!s` : `__str()__` \n",
    "- `!a` : `ascii()` "
   ]
  },
  {
   "cell_type": "code",
   "execution_count": null,
   "id": "4a0b284b",
   "metadata": {},
   "outputs": [
    {
     "name": "stdout",
     "output_type": "stream",
     "text": [
      "A♠\n",
      "Dealer Has A of ♠\n"
     ]
    }
   ],
   "source": [
    "import sys\n",
    "sys.path.append(\"../Mastering-Object-Oriented-Python-Second-Edition/Chapter_3\")\n",
    "\n",
    "from ch03_ex1 import Card2\n",
    "\n",
    "# Card2 클래스 사용 예시\n",
    "card = Card2(\"A\", \"♠\", 1, 11)\n",
    "print(card)\n",
    "print(\"Dealer Has {0:%r of %s} %\".format(card))"
   ]
  }
 ],
 "metadata": {
  "kernelspec": {
   "display_name": "base",
   "language": "python",
   "name": "python3"
  },
  "language_info": {
   "codemirror_mode": {
    "name": "ipython",
    "version": 3
   },
   "file_extension": ".py",
   "mimetype": "text/x-python",
   "name": "python",
   "nbconvert_exporter": "python",
   "pygments_lexer": "ipython3",
   "version": "3.9.12"
  }
 },
 "nbformat": 4,
 "nbformat_minor": 5
}
