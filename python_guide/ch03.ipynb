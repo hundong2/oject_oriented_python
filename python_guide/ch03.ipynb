{
 "cells": [
  {
   "cell_type": "markdown",
   "id": "658abec7",
   "metadata": {},
   "source": [
    "# __format__() method \n",
    "\n",
    "it'll be used that format \n",
    "\n",
    "```python\n",
    "someobject.__format__(\"\")\n",
    "=>\n",
    "f\"{someobject}\"\n",
    "format(someobject)\n",
    "\"{0}\".format(someobject)\n",
    "```\n",
    "\n",
    "```python\n",
    "someobject.__format(spec):\n",
    "=>\n",
    "f\"{someobject:spec}\"\n",
    "format(someobject,spec)\n",
    "\"{0:spec}\".format(someobject)\n",
    "```"
   ]
  },
  {
   "cell_type": "markdown",
   "id": "8571c0df",
   "metadata": {},
   "source": [
    "# 반환 명세 ( conversion specification )\n",
    "\n",
    "- `!r` : conversion specification\n",
    "    - `__repr__()` \n",
    "- `!s` : `__str()__` \n",
    "- `!a` : `ascii()` "
   ]
  },
  {
   "cell_type": "code",
   "execution_count": 10,
   "id": "4a0b284b",
   "metadata": {},
   "outputs": [
    {
     "name": "stdout",
     "output_type": "stream",
     "text": [
      "A♠\n",
      "Dealer Has A of ♠ %\n"
     ]
    }
   ],
   "source": [
    "import sys\n",
    "sys.path.append(\"../Mastering-Object-Oriented-Python-Second-Edition/Chapter_3\")\n",
    "\n",
    "from ch03_ex1 import Card2\n",
    "\n",
    "# Card2 클래스 사용 예시\n",
    "card = Card2(\"A\", \"♠\", 1, 11)\n",
    "print(card)\n",
    "print(\"Dealer Has {0:%r of %s} %\".format(card))"
   ]
  },
  {
   "cell_type": "markdown",
   "id": "c4e20031",
   "metadata": {},
   "source": [
    "# hash\n",
    "\n",
    "복잡할 수 있는 어떤 값을 작은 정수값으로 줄이는 연산\n",
    "\n",
    "## hashlib\n",
    "\n",
    "암호화 수준의 해시함수\n",
    "\n",
    "# zlib\n",
    "\n",
    "adler32(), crc32() "
   ]
  },
  {
   "cell_type": "markdown",
   "id": "236b67bf",
   "metadata": {},
   "source": [
    "# hash 기본 법 \n",
    "\n",
    "- 같은 해시값 : 두 객체가 동등할 수 있다는 뜻, 해시값이 다르면 두 객체는 절대 동등하지 않으며 같은 객체가 아니다\n",
    "- 동등 : 해시값까지 동등해야 한다는 뜻, `==` 연산자. 같은 객체 일 수도 있다.\n",
    "- 같은 ID 값 : 같은 객체라는 뜻, 동등하고 해시값도 같다 `is` 연산자. \n",
    "\n",
    "# hash 기본법\n",
    "\n",
    "- 동등한 객체는 해시값이 같다.\n",
    "- 해시값이 같은 객체라도 실제로 별개일 수 있고 동등이 아닐수도 있다. \n",
    "\n",
    "```python\n",
    ">>> v1 = 123_456_789\n",
    ">>> v2 = 2_305_843_009_337_150_740\n",
    ">>> hash(v1)\n",
    "123456789\n",
    ">>> hash(v2)\n",
    "123456789\n",
    ">>> v1==v2\n",
    "False\n",
    "```"
   ]
  },
  {
   "cell_type": "markdown",
   "id": "b0e179d9",
   "metadata": {},
   "source": [
    "# 불변 객체\n",
    "\n",
    "- `tuple`, `namedtuple`, `frozenset`\n",
    "\n"
   ]
  }
 ],
 "metadata": {
  "kernelspec": {
   "display_name": "base",
   "language": "python",
   "name": "python3"
  },
  "language_info": {
   "codemirror_mode": {
    "name": "ipython",
    "version": 3
   },
   "file_extension": ".py",
   "mimetype": "text/x-python",
   "name": "python",
   "nbconvert_exporter": "python",
   "pygments_lexer": "ipython3",
   "version": "3.9.12"
  }
 },
 "nbformat": 4,
 "nbformat_minor": 5
}
