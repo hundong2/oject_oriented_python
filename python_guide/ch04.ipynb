{
 "cells": [
  {
   "cell_type": "markdown",
   "id": "d07e1fd3",
   "metadata": {},
   "source": [
    "# install anaconda \n",
    "\n",
    "# Homebrew로 Anaconda 설치 방법\n",
    "\n",
    "## 예시 파일\n",
    "[Homebrew 공식 Anaconda 설치 가이드](https://formulae.brew.sh/cask/anaconda)\n",
    "\n",
    "## 답변\n",
    "Homebrew로 Anaconda를 설치하려면 아래 명령어를 사용하세요.\n",
    "\n",
    "```bash\n",
    "brew update\n",
    "brew install --cask anaconda\n",
    "```\n",
    "\n",
    "설치 후, 환경변수에 Anaconda 경로를 추가해야 합니다.\n",
    "\n",
    "```bash\n",
    "# .zshrc 또는 .bash_profile에 추가\n",
    "export PATH=\"/opt/homebrew/anaconda3/bin:$PATH\"\n",
    "source ~/.zshrc  # 또는 source ~/.bash_profile\n",
    "```\n",
    "\n",
    "설치가 완료되면 아래 명령어로 확인하세요.\n",
    "\n",
    "```bash\n",
    "conda --version\n",
    "python --version\n",
    "```\n",
    "\n",
    "## 추가 자료\n",
    "- [Homebrew Cask 공식 문서](https://docs.brew.sh/Cask)\n",
    "- [Anaconda 공식 설치 가이드](https://docs.anaconda.com/free/anaconda/install/macos/)"
   ]
  },
  {
   "cell_type": "markdown",
   "id": "50bdaf65",
   "metadata": {},
   "source": [
    "# attribute access \n",
    "\n",
    "## property\n",
    "\n",
    "## descriptor\n",
    "\n"
   ]
  },
  {
   "cell_type": "code",
   "execution_count": 1,
   "id": "a2f62565",
   "metadata": {},
   "outputs": [],
   "source": [
    "class Generic:\n",
    "    pass\n",
    "\n",
    "g=Generic()"
   ]
  },
  {
   "cell_type": "code",
   "execution_count": 2,
   "id": "696ad483",
   "metadata": {},
   "outputs": [],
   "source": [
    "import sys\n",
    "sys.path.append(\"../Mastering-Object-Oriented-Python-Second-Edition/Chapter_4\")\n"
   ]
  },
  {
   "cell_type": "code",
   "execution_count": null,
   "id": "47b14b88",
   "metadata": {},
   "outputs": [],
   "source": [
    "class Generic:\n",
    "    pass\n",
    "\n",
    "g = Generic()\n",
    "g.attribute = \"Hello, World!\"\n",
    "g.attribute "
   ]
  }
 ],
 "metadata": {
  "kernelspec": {
   "display_name": "base",
   "language": "python",
   "name": "python3"
  },
  "language_info": {
   "codemirror_mode": {
    "name": "ipython",
    "version": 3
   },
   "file_extension": ".py",
   "mimetype": "text/x-python",
   "name": "python",
   "nbconvert_exporter": "python",
   "pygments_lexer": "ipython3",
   "version": "3.13.5"
  }
 },
 "nbformat": 4,
 "nbformat_minor": 5
}
